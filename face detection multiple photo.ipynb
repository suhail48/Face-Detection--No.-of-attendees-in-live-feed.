{
 "cells": [
  {
   "cell_type": "code",
   "execution_count": 37,
   "metadata": {},
   "outputs": [],
   "source": [
    "import cv2\n",
    "cap = cv2.VideoCapture(0)\n",
    "face_model = cv2.CascadeClassifier('haarcascade_frontalface_default.xml')"
   ]
  },
  {
   "cell_type": "code",
   "execution_count": 53,
   "metadata": {},
   "outputs": [],
   "source": [
    "status , photo = cap.read()\n",
    "\n",
    "face_cor = face_model.detectMultiScale(photo)\n",
    "x1=[]\n",
    "x2=[]\n",
    "y1=[]\n",
    "y2=[]\n",
    "x = len(face_cor)\n",
    "st=\"No. of attendees \"+repr(x)\n",
    "if x == 0:\n",
    "    pass\n",
    "else:\n",
    "    for i in range(x):\n",
    "        x1.append(face_cor[i][0])\n",
    "        y1.append(face_cor[i][1])\n",
    "        x2.append(x1[i]+face_cor[i][2])\n",
    "        y2.append(y1[i]+face_cor[i][3])\n",
    "    for i in range(0,x):\n",
    "        photo = cv2.rectangle(photo , (int(x1[i]),  int(y1[i])) , (int(x2[i]), int(y2[i])), [0,255,0], 3)\n",
    "cv2.putText(photo,st,(10,30), cv2.FONT_HERSHEY_SIMPLEX,1, (255, 0, 0), 1, cv2.LINE_AA)\n",
    "cv2.imshow('hi' , photo)\n",
    "cv2.waitKey(5000)\n",
    "    \n",
    "        \n",
    "cv2.destroyAllWindows()"
   ]
  },
  {
   "cell_type": "code",
   "execution_count": 42,
   "metadata": {},
   "outputs": [
    {
     "data": {
      "text/plain": [
       "array([[193, 123, 261, 261],\n",
       "       [221, 244,  69,  69]], dtype=int32)"
      ]
     },
     "execution_count": 42,
     "metadata": {},
     "output_type": "execute_result"
    }
   ],
   "source": [
    "face_cor"
   ]
  },
  {
   "cell_type": "code",
   "execution_count": 27,
   "metadata": {},
   "outputs": [
    {
     "data": {
      "text/plain": [
       "3"
      ]
     },
     "execution_count": 27,
     "metadata": {},
     "output_type": "execute_result"
    }
   ],
   "source": [
    "x"
   ]
  },
  {
   "cell_type": "code",
   "execution_count": 54,
   "metadata": {},
   "outputs": [],
   "source": [
    "cap.release()"
   ]
  },
  {
   "cell_type": "code",
   "execution_count": null,
   "metadata": {},
   "outputs": [],
   "source": []
  }
 ],
 "metadata": {
  "kernelspec": {
   "display_name": "Python 3",
   "language": "python",
   "name": "python3"
  },
  "language_info": {
   "codemirror_mode": {
    "name": "ipython",
    "version": 3
   },
   "file_extension": ".py",
   "mimetype": "text/x-python",
   "name": "python",
   "nbconvert_exporter": "python",
   "pygments_lexer": "ipython3",
   "version": "3.7.6"
  }
 },
 "nbformat": 4,
 "nbformat_minor": 4
}
